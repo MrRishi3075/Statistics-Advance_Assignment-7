{
 "cells": [
  {
   "cell_type": "markdown",
   "id": "dd0583fd-96b3-4d72-951f-7dce02ae190b",
   "metadata": {},
   "source": [
    "### Q1. Write a Python function that takes in two arrays of data and calculates the F-value for a variance ratio test. The function should return the F-value and the corresponding p-value for the test.\n",
    "\n",
    "### Q2. Given a significance level of 0.05 and the degrees of freedom for the numerator and denominator of an F-distribution, write a Python function that returns the critical F-value for a two-tailed test.\n",
    "\n",
    "### Q3. Write a Python program that generates random samples from two normal distributions with known variances and uses an F-test to determine if the variances are equal. The program should output the F- value, degrees of freedom, and p-value for the test.\n",
    "\n",
    "### Q4.The variances of two populations are known to be 10 and 15. A sample of 12 observations is taken from each population. Conduct an F-test at the 5% significance level to determine if the variances are significantly different.\n",
    "\n",
    "### Q5. A manufacturer claims that the variance of the diameter of a certain product is 0.005. A sample of 25 products is taken, and the sample variance is found to be 0.006. Conduct an F-test at the 1% significance level to determine if the claim is justified.\n",
    "\n",
    "### Q6. Write a Python function that takes in the degrees of freedom for the numerator and denominator of an F-distribution and calculates the mean and variance of the distribution. The function should return the mean and variance as a tuple.\n",
    "\n",
    "### Q7. A random sample of 10 measurements is taken from a normal population with unknown variance. The sample variance is found to be 25. Another random sample of 15 measurements is taken from another normal population with unknown variance, and the sample variance is found to be 20. Conduct an F-test at the 10% significance level to determine if the variances are significantly different.\n",
    "\n",
    "### Q8. The following data represent the waiting times in minutes at two different restaurants on a Saturday night: Restaurant A: 24, 25, 28, 23, 22, 20, 27; Restaurant B: 31, 33, 35, 30, 32, 36. Conduct an F-test at the 5% significance level to determine if the variances are significantly different.\n",
    "\n",
    "### Q9. The following data represent the test scores of two groups of students: Group A: 80, 85, 90, 92, 87, 83; Group B: 75, 78, 82, 79, 81, 84. Conduct an F-test at the 1% significance level to determine if the variances are significantly different."
   ]
  },
  {
   "cell_type": "markdown",
   "id": "c8035e01-96bd-498b-8826-3aff16f991ee",
   "metadata": {},
   "source": [
    "### Ans Of Q1."
   ]
  },
  {
   "cell_type": "code",
   "execution_count": 1,
   "id": "dc321f05-4ec2-47dd-bdc3-b3f76f838ac1",
   "metadata": {},
   "outputs": [
    {
     "name": "stdout",
     "output_type": "stream",
     "text": [
      "F-value: 1.0\n",
      "p-value: 1.0\n"
     ]
    }
   ],
   "source": [
    "import numpy as np\n",
    "from scipy.stats import f\n",
    "\n",
    "def variance_ratio_test(data1, data2):\n",
    "    var1 = np.var(data1, ddof=1)\n",
    "    var2 = np.var(data2, ddof=1)\n",
    "    \n",
    "    f_value = var1 / var2 if var1 >= var2 else var2 / var1\n",
    "    df1 = len(data1) - 1\n",
    "    df2 = len(data2) - 1\n",
    "    p_value = 2 * min(f.cdf(f_value, df1, df2), 1 - f.cdf(f_value, df1, df2))\n",
    "    \n",
    "    return f_value, p_value\n",
    "\n",
    "# Example usage:\n",
    "data1 = [1, 2, 3, 4, 5]\n",
    "data2 = [2, 3, 4, 5, 6]\n",
    "result = variance_ratio_test(data1, data2)\n",
    "print(\"F-value:\", result[0])\n",
    "print(\"p-value:\", result[1])\n"
   ]
  },
  {
   "cell_type": "markdown",
   "id": "e271a2ad-d670-4881-8973-69221e4e04d8",
   "metadata": {},
   "source": [
    "### Ans Of Q2."
   ]
  },
  {
   "cell_type": "code",
   "execution_count": 2,
   "id": "f79c1ecb-750e-4cc9-a094-c6619f9461ab",
   "metadata": {},
   "outputs": [
    {
     "name": "stdout",
     "output_type": "stream",
     "text": [
      "Critical F-value: 5.415962339560236\n"
     ]
    }
   ],
   "source": [
    "from scipy.stats import f\n",
    "\n",
    "def critical_f_value(alpha, df1, df2):\n",
    "    return f.ppf(1 - alpha/2, df1, df2)\n",
    "\n",
    "# Example usage:\n",
    "alpha = 0.05\n",
    "df1 = 3\n",
    "df2 = 8\n",
    "critical_value = critical_f_value(alpha, df1, df2)\n",
    "print(\"Critical F-value:\", critical_value)\n"
   ]
  },
  {
   "cell_type": "markdown",
   "id": "cf40ee19-9eaf-43c5-9f45-058b8a145a58",
   "metadata": {},
   "source": [
    "### Ans. Of Q3."
   ]
  },
  {
   "cell_type": "code",
   "execution_count": 3,
   "id": "d5844745-d3a1-44d5-9c5b-ee6890257ee3",
   "metadata": {},
   "outputs": [
    {
     "name": "stdout",
     "output_type": "stream",
     "text": [
      "F-value: 2.775005499769809\n",
      "Degrees of Freedom: 49 49\n",
      "p-value: 0.0004984948931856525\n"
     ]
    }
   ],
   "source": [
    "from scipy.stats import f\n",
    "\n",
    "def f_test_for_variances(data1, data2):\n",
    "    var1 = np.var(data1, ddof=1)\n",
    "    var2 = np.var(data2, ddof=1)\n",
    "    \n",
    "    f_value = var1 / var2 if var1 >= var2 else var2 / var1\n",
    "    df1 = len(data1) - 1\n",
    "    df2 = len(data2) - 1\n",
    "    p_value = 2 * min(f.cdf(f_value, df1, df2), 1 - f.cdf(f_value, df1, df2))\n",
    "    \n",
    "    return f_value, df1, df2, p_value\n",
    "\n",
    "# Example usage:\n",
    "data1 = np.random.normal(loc=0, scale=1, size=50)\n",
    "data2 = np.random.normal(loc=0, scale=1.5, size=50)\n",
    "result = f_test_for_variances(data1, data2)\n",
    "print(\"F-value:\", result[0])\n",
    "print(\"Degrees of Freedom:\", result[1], result[2])\n",
    "print(\"p-value:\", result[3])\n"
   ]
  },
  {
   "cell_type": "markdown",
   "id": "6bebbdb9-acad-465f-8914-9bfda5a06a17",
   "metadata": {},
   "source": [
    "### Ans Of Q4."
   ]
  },
  {
   "cell_type": "code",
   "execution_count": 5,
   "id": "436898e5-dedd-40b8-9796-ad42cb90fb9f",
   "metadata": {},
   "outputs": [
    {
     "name": "stdout",
     "output_type": "stream",
     "text": [
      "Fail to reject the null hypothesis. Variances are not significantly different.\n"
     ]
    }
   ],
   "source": [
    "from scipy.stats import f\n",
    "\n",
    "# Given data\n",
    "variance1 = 10\n",
    "variance2 = 15\n",
    "sample_size1 = 12\n",
    "sample_size2 = 12\n",
    "alpha = 0.05\n",
    "\n",
    "# F-test for equal variances\n",
    "f_value = variance1 / variance2 if variance1 >= variance2 else variance2 / variance1\n",
    "df1 = sample_size1 - 1\n",
    "df2 = sample_size2 - 1\n",
    "p_value = 2 * min(f.cdf(f_value, df1, df2), 1 - f.cdf(f_value, df1, df2))\n",
    "\n",
    "# Compare p-value with significance level\n",
    "if p_value < alpha:\n",
    "    print(\"Reject the null hypothesis. Variances are significantly different.\")\n",
    "else:\n",
    "    print(\"Fail to reject the null hypothesis. Variances are not significantly different.\")\n"
   ]
  },
  {
   "cell_type": "markdown",
   "id": "dd45065e-5829-48ff-8560-a1bdc3cf9585",
   "metadata": {},
   "source": [
    "### Ans Of Q5."
   ]
  },
  {
   "cell_type": "code",
   "execution_count": 6,
   "id": "bcec1629-36c3-45e5-ba00-53fdc361186f",
   "metadata": {},
   "outputs": [
    {
     "name": "stdout",
     "output_type": "stream",
     "text": [
      "Fail to reject the null hypothesis. The claim is justified.\n"
     ]
    }
   ],
   "source": [
    "from scipy.stats import f\n",
    "\n",
    "# Given data\n",
    "claimed_variance = 0.005\n",
    "sample_size = 25\n",
    "sample_variance = 0.006\n",
    "alpha = 0.01\n",
    "\n",
    "# F-test for claimed variance\n",
    "f_value = sample_variance / claimed_variance\n",
    "df1 = sample_size - 1\n",
    "df2 = 1  # Degrees of freedom for the claimed variance\n",
    "p_value = 2 * min(f.cdf(f_value, df1, df2), 1 - f.cdf(f_value, df1, df2))\n",
    "\n",
    "# Compare p-value with significance level\n",
    "if p_value < alpha:\n",
    "    print(\"Reject the null hypothesis. The claim is not justified.\")\n",
    "else:\n",
    "    print(\"Fail to reject the null hypothesis. The claim is justified.\")\n"
   ]
  },
  {
   "cell_type": "markdown",
   "id": "9375d404-881f-4a90-8247-539929c7a2fe",
   "metadata": {},
   "source": [
    "### Ans Of Q6.\n"
   ]
  },
  {
   "cell_type": "code",
   "execution_count": 4,
   "id": "1c871b9a-878c-4862-afca-f1e387694752",
   "metadata": {},
   "outputs": [
    {
     "name": "stdout",
     "output_type": "stream",
     "text": [
      "Mean: 1.25\n",
      "Variance: 1.3541666666666667\n"
     ]
    }
   ],
   "source": [
    "from scipy.stats import f\n",
    "\n",
    "def f_distribution_mean_variance(df1, df2):\n",
    "    mean = df2 / (df2 - 2) if df2 > 2 else None\n",
    "    variance = 2 * (df2**2 * (df1 + df2 - 2)) / (df1 * (df2 - 2)**2 * (df2 - 4)) if df2 > 4 else None\n",
    "    return mean, variance\n",
    "\n",
    "# Example usage:\n",
    "df1 = 5\n",
    "df2 = 10\n",
    "result = f_distribution_mean_variance(df1, df2)\n",
    "print(\"Mean:\", result[0])\n",
    "print(\"Variance:\", result[1])\n"
   ]
  },
  {
   "cell_type": "markdown",
   "id": "6bef35ab-c74b-483c-a3b3-fda7dc290b55",
   "metadata": {},
   "source": [
    "### Ans Of Q7."
   ]
  },
  {
   "cell_type": "code",
   "execution_count": 7,
   "id": "2075cf70-dc6d-43a6-9a21-dd87beb6d92a",
   "metadata": {},
   "outputs": [
    {
     "name": "stdout",
     "output_type": "stream",
     "text": [
      "Fail to reject the null hypothesis. Variances are not significantly different.\n"
     ]
    }
   ],
   "source": [
    "from scipy.stats import f\n",
    "\n",
    "# Given data\n",
    "sample_variance1 = 25\n",
    "sample_size1 = 10\n",
    "sample_variance2 = 20\n",
    "sample_size2 = 15\n",
    "alpha = 0.10\n",
    "\n",
    "# F-test for equal variances\n",
    "f_value = sample_variance1 / sample_variance2 if sample_variance1 >= sample_variance2 else sample_variance2 / sample_variance1\n",
    "df1 = sample_size1 - 1\n",
    "df2 = sample_size2 - 1\n",
    "p_value = 2 * min(f.cdf(f_value, df1, df2), 1 - f.cdf(f_value, df1, df2))\n",
    "\n",
    "# Compare p-value with significance level\n",
    "if p_value < alpha:\n",
    "    print(\"Reject the null hypothesis. Variances are significantly different.\")\n",
    "else:\n",
    "    print(\"Fail to reject the null hypothesis. Variances are not significantly different.\")\n"
   ]
  },
  {
   "cell_type": "markdown",
   "id": "bb059a24-3c34-4aef-99e7-f9a6a8f53133",
   "metadata": {},
   "source": [
    "### Ans Of Q8."
   ]
  },
  {
   "cell_type": "code",
   "execution_count": 8,
   "id": "359d6d73-08ab-48b9-86e5-b05515d8f6bc",
   "metadata": {},
   "outputs": [
    {
     "name": "stdout",
     "output_type": "stream",
     "text": [
      "Fail to reject the null hypothesis. Variances are not significantly different.\n"
     ]
    }
   ],
   "source": [
    "from scipy.stats import f\n",
    "\n",
    "# Given data\n",
    "waiting_times_a = [24, 25, 28, 23, 22, 20, 27]\n",
    "waiting_times_b = [31, 33, 35, 30, 32, 36]\n",
    "alpha = 0.05\n",
    "\n",
    "# F-test for equal variances\n",
    "f_value = np.var(waiting_times_a, ddof=1) / np.var(waiting_times_b, ddof=1)\n",
    "df1 = len(waiting_times_a) - 1\n",
    "df2 = len(waiting_times_b) - 1\n",
    "p_value = 2 * min(f.cdf(f_value, df1, df2), 1 - f.cdf(f_value, df1, df2))\n",
    "\n",
    "# Compare p-value with significance level\n",
    "if p_value < alpha:\n",
    "    print(\"Reject the null hypothesis. Variances are significantly different.\")\n",
    "else:\n",
    "    print(\"Fail to reject the null hypothesis. Variances are not significantly different.\")\n"
   ]
  },
  {
   "cell_type": "markdown",
   "id": "d9c46d12-5751-4928-8d29-f9148eb1fad8",
   "metadata": {},
   "source": [
    "### Ans Of Q9."
   ]
  },
  {
   "cell_type": "code",
   "execution_count": 9,
   "id": "51123969-b17c-40d0-a95f-301b8194ef7c",
   "metadata": {},
   "outputs": [
    {
     "name": "stdout",
     "output_type": "stream",
     "text": [
      "Fail to reject the null hypothesis. Variances are not significantly different.\n"
     ]
    }
   ],
   "source": [
    "from scipy.stats import f\n",
    "\n",
    "# Given data\n",
    "test_scores_a = [80, 85, 90, 92, 87, 83]\n",
    "test_scores_b = [75, 78, 82, 79, 81, 84]\n",
    "alpha = 0.01\n",
    "\n",
    "# F-test for equal variances\n",
    "f_value = np.var(test_scores_a, ddof=1) / np.var(test_scores_b, ddof=1)\n",
    "df1 = len(test_scores_a) - 1\n",
    "df2 = len(test_scores_b) - 1\n",
    "p_value = 2 * min(f.cdf(f_value, df1, df2), 1 - f.cdf(f_value, df1, df2))\n",
    "\n",
    "# Compare p-value with significance level\n",
    "if p_value < alpha:\n",
    "    print(\"Reject the null hypothesis. Variances are significantly different.\")\n",
    "else:\n",
    "    print(\"Fail to reject the null hypothesis. Variances are not significantly different.\")\n"
   ]
  }
 ],
 "metadata": {
  "kernelspec": {
   "display_name": "Python 3 (ipykernel)",
   "language": "python",
   "name": "python3"
  },
  "language_info": {
   "codemirror_mode": {
    "name": "ipython",
    "version": 3
   },
   "file_extension": ".py",
   "mimetype": "text/x-python",
   "name": "python",
   "nbconvert_exporter": "python",
   "pygments_lexer": "ipython3",
   "version": "3.10.8"
  }
 },
 "nbformat": 4,
 "nbformat_minor": 5
}
